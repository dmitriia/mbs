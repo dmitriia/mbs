{
  "nbformat": 4,
  "nbformat_minor": 0,
  "metadata": {
    "colab": {
      "name": "cuda_colab.ipynb",
      "provenance": [],
      "collapsed_sections": [],
      "toc_visible": true,
      "include_colab_link": true
    },
    "kernelspec": {
      "name": "python3",
      "display_name": "Python 3"
    },
    "accelerator": "GPU"
  },
  "cells": [
    {
      "cell_type": "markdown",
      "metadata": {
        "id": "view-in-github",
        "colab_type": "text"
      },
      "source": [
        "<a href=\"https://colab.research.google.com/github/dmitriia/mbs/blob/master/cuda/cuda_colab.ipynb\" target=\"_parent\"><img src=\"https://colab.research.google.com/assets/colab-badge.svg\" alt=\"Open In Colab\"/></a>"
      ]
    },
    {
      "cell_type": "code",
      "metadata": {
        "id": "JIWh55tw0AKf",
        "colab_type": "code",
        "colab": {}
      },
      "source": [
        "import codecs\n",
        "import sys\n",
        "import os \n",
        "import pandas as pd\n",
        "import numpy as np\n",
        "import pickle\n",
        "import numba"
      ],
      "execution_count": 0,
      "outputs": []
    },
    {
      "cell_type": "code",
      "metadata": {
        "id": "pE5TsKmK1unU",
        "colab_type": "code",
        "outputId": "925245b3-0d84-4921-9100-c6bd1e51ab90",
        "colab": {
          "base_uri": "https://localhost:8080/",
          "height": 34
        }
      },
      "source": [
        "# 1 ШАГ. Установка Пакетов для работы с GPU (После перезапуска, не выполнять)\n",
        "!apt-get install nvidia-cuda-toolkit > /dev/null 2>&1\n",
        "!pip install cudf > /dev/null 2>&1\n",
        "!pip3 install cudf-cuda100 > /dev/null 2>&1\n",
        "print(\"Next\")"
      ],
      "execution_count": 0,
      "outputs": [
        {
          "output_type": "stream",
          "text": [
            "Next\n"
          ],
          "name": "stdout"
        }
      ]
    },
    {
      "cell_type": "code",
      "metadata": {
        "id": "-MC0EEIV13sV",
        "colab_type": "code",
        "outputId": "32ad0bc8-6283-4d16-fe66-9f4ad6efacbe",
        "colab": {
          "base_uri": "https://localhost:8080/",
          "height": 102
        }
      },
      "source": [
        "# 2 Шаг. Проверка\n",
        "import os\n",
        "os.environ['NUMBAPRO_LIBDEVICE'] = \"/usr/lib/nvidia-cuda-toolkit/libdevice\"\n",
        "os.environ['NUMBAPRO_NVVM'] = \"/usr/lib/x86_64-linux-gnu/libnvvm.so.3\"\n",
        "\n",
        "from numba import cuda\n",
        "import numpy as np\n",
        "import time\n",
        "\n",
        "@cuda.jit\n",
        "def hello(data):\n",
        "    data[cuda.blockIdx.x, cuda.threadIdx.x] = cuda.blockIdx.x\n",
        "\n",
        "numBlocks = 5\n",
        "threadsPerBlock = 10\n",
        "\n",
        "data = np.ones((numBlocks, threadsPerBlock), dtype=np.uint8)\n",
        "\n",
        "hello[numBlocks, threadsPerBlock](data)\n",
        "\n",
        "print(data)"
      ],
      "execution_count": 0,
      "outputs": [
        {
          "output_type": "stream",
          "text": [
            "[[0 0 0 0 0 0 0 0 0 0]\n",
            " [1 1 1 1 1 1 1 1 1 1]\n",
            " [2 2 2 2 2 2 2 2 2 2]\n",
            " [3 3 3 3 3 3 3 3 3 3]\n",
            " [4 4 4 4 4 4 4 4 4 4]]\n"
          ],
          "name": "stdout"
        }
      ]
    },
    {
      "cell_type": "code",
      "metadata": {
        "id": "VW54l6ijMZb8",
        "colab_type": "code",
        "colab": {}
      },
      "source": [
        "# 3 Шаг. Перезапустить: вкладка RUNTIME -> restart Runtime... -> Yes"
      ],
      "execution_count": 0,
      "outputs": []
    },
    {
      "cell_type": "code",
      "metadata": {
        "id": "am9Uqw4Y0H3M",
        "colab_type": "code",
        "colab": {}
      },
      "source": [
        "!pip install cupy > /dev/null 2>&1"
      ],
      "execution_count": 0,
      "outputs": []
    },
    {
      "cell_type": "code",
      "metadata": {
        "id": "gmSBJCm94uLr",
        "colab_type": "code",
        "colab": {}
      },
      "source": [
        "import cupy as cp"
      ],
      "execution_count": 0,
      "outputs": []
    },
    {
      "cell_type": "code",
      "metadata": {
        "id": "2_EWbhttjUQX",
        "colab_type": "code",
        "outputId": "9f7101d0-34b2-4e12-8171-f289c1ac8b15",
        "colab": {
          "base_uri": "https://localhost:8080/",
          "height": 51
        }
      },
      "source": [
        "!pip install cffi "
      ],
      "execution_count": 0,
      "outputs": [
        {
          "output_type": "stream",
          "text": [
            "Requirement already satisfied: cffi in /usr/local/lib/python3.6/dist-packages (1.13.2)\n",
            "Requirement already satisfied: pycparser in /usr/local/lib/python3.6/dist-packages (from cffi) (2.19)\n"
          ],
          "name": "stdout"
        }
      ]
    },
    {
      "cell_type": "code",
      "metadata": {
        "id": "AS72aXyBuGFg",
        "colab_type": "code",
        "outputId": "bdb5db5a-a4c5-4d7a-ef5d-8ba0795b1d81",
        "colab": {
          "base_uri": "https://localhost:8080/",
          "height": 102
        }
      },
      "source": [
        "!pip install pymssql\n",
        "import pymssql"
      ],
      "execution_count": 0,
      "outputs": [
        {
          "output_type": "stream",
          "text": [
            "Collecting pymssql\n",
            "\u001b[?25l  Downloading https://files.pythonhosted.org/packages/84/80/de3af1d2d76792841a94196c6c06c67fb4c3b11ae3a5f5811c5069b94d76/pymssql-2.1.4-cp36-cp36m-manylinux1_x86_64.whl (1.4MB)\n",
            "\r\u001b[K     |▎                               | 10kB 28.1MB/s eta 0:00:01\r\u001b[K     |▌                               | 20kB 5.6MB/s eta 0:00:01\r\u001b[K     |▊                               | 30kB 8.0MB/s eta 0:00:01\r\u001b[K     |█                               | 40kB 5.0MB/s eta 0:00:01\r\u001b[K     |█▏                              | 51kB 6.2MB/s eta 0:00:01\r\u001b[K     |█▍                              | 61kB 7.3MB/s eta 0:00:01\r\u001b[K     |█▋                              | 71kB 8.4MB/s eta 0:00:01\r\u001b[K     |█▉                              | 81kB 9.5MB/s eta 0:00:01\r\u001b[K     |██                              | 92kB 10.5MB/s eta 0:00:01\r\u001b[K     |██▎                             | 102kB 8.4MB/s eta 0:00:01\r\u001b[K     |██▌                             | 112kB 8.4MB/s eta 0:00:01\r\u001b[K     |██▊                             | 122kB 8.4MB/s eta 0:00:01\r\u001b[K     |███                             | 133kB 8.4MB/s eta 0:00:01\r\u001b[K     |███▏                            | 143kB 8.4MB/s eta 0:00:01\r\u001b[K     |███▍                            | 153kB 8.4MB/s eta 0:00:01\r\u001b[K     |███▋                            | 163kB 8.4MB/s eta 0:00:01\r\u001b[K     |███▉                            | 174kB 8.4MB/s eta 0:00:01\r\u001b[K     |████                            | 184kB 8.4MB/s eta 0:00:01\r\u001b[K     |████▎                           | 194kB 8.4MB/s eta 0:00:01\r\u001b[K     |████▌                           | 204kB 8.4MB/s eta 0:00:01\r\u001b[K     |████▊                           | 215kB 8.4MB/s eta 0:00:01\r\u001b[K     |█████                           | 225kB 8.4MB/s eta 0:00:01\r\u001b[K     |█████▏                          | 235kB 8.4MB/s eta 0:00:01\r\u001b[K     |█████▌                          | 245kB 8.4MB/s eta 0:00:01\r\u001b[K     |█████▊                          | 256kB 8.4MB/s eta 0:00:01\r\u001b[K     |██████                          | 266kB 8.4MB/s eta 0:00:01\r\u001b[K     |██████▏                         | 276kB 8.4MB/s eta 0:00:01\r\u001b[K     |██████▍                         | 286kB 8.4MB/s eta 0:00:01\r\u001b[K     |██████▋                         | 296kB 8.4MB/s eta 0:00:01\r\u001b[K     |██████▉                         | 307kB 8.4MB/s eta 0:00:01\r\u001b[K     |███████                         | 317kB 8.4MB/s eta 0:00:01\r\u001b[K     |███████▎                        | 327kB 8.4MB/s eta 0:00:01\r\u001b[K     |███████▌                        | 337kB 8.4MB/s eta 0:00:01\r\u001b[K     |███████▊                        | 348kB 8.4MB/s eta 0:00:01\r\u001b[K     |████████                        | 358kB 8.4MB/s eta 0:00:01\r\u001b[K     |████████▏                       | 368kB 8.4MB/s eta 0:00:01\r\u001b[K     |████████▍                       | 378kB 8.4MB/s eta 0:00:01\r\u001b[K     |████████▋                       | 389kB 8.4MB/s eta 0:00:01\r\u001b[K     |████████▉                       | 399kB 8.4MB/s eta 0:00:01\r\u001b[K     |█████████                       | 409kB 8.4MB/s eta 0:00:01\r\u001b[K     |█████████▎                      | 419kB 8.4MB/s eta 0:00:01\r\u001b[K     |█████████▌                      | 430kB 8.4MB/s eta 0:00:01\r\u001b[K     |█████████▊                      | 440kB 8.4MB/s eta 0:00:01\r\u001b[K     |██████████                      | 450kB 8.4MB/s eta 0:00:01\r\u001b[K     |██████████▏                     | 460kB 8.4MB/s eta 0:00:01\r\u001b[K     |██████████▍                     | 471kB 8.4MB/s eta 0:00:01\r\u001b[K     |██████████▊                     | 481kB 8.4MB/s eta 0:00:01\r\u001b[K     |███████████                     | 491kB 8.4MB/s eta 0:00:01\r\u001b[K     |███████████▏                    | 501kB 8.4MB/s eta 0:00:01\r\u001b[K     |███████████▍                    | 512kB 8.4MB/s eta 0:00:01\r\u001b[K     |███████████▋                    | 522kB 8.4MB/s eta 0:00:01\r\u001b[K     |███████████▉                    | 532kB 8.4MB/s eta 0:00:01\r\u001b[K     |████████████                    | 542kB 8.4MB/s eta 0:00:01\r\u001b[K     |████████████▎                   | 552kB 8.4MB/s eta 0:00:01\r\u001b[K     |████████████▌                   | 563kB 8.4MB/s eta 0:00:01\r\u001b[K     |████████████▊                   | 573kB 8.4MB/s eta 0:00:01\r\u001b[K     |█████████████                   | 583kB 8.4MB/s eta 0:00:01\r\u001b[K     |█████████████▏                  | 593kB 8.4MB/s eta 0:00:01\r\u001b[K     |█████████████▍                  | 604kB 8.4MB/s eta 0:00:01\r\u001b[K     |█████████████▋                  | 614kB 8.4MB/s eta 0:00:01\r\u001b[K     |█████████████▉                  | 624kB 8.4MB/s eta 0:00:01\r\u001b[K     |██████████████                  | 634kB 8.4MB/s eta 0:00:01\r\u001b[K     |██████████████▎                 | 645kB 8.4MB/s eta 0:00:01\r\u001b[K     |██████████████▌                 | 655kB 8.4MB/s eta 0:00:01\r\u001b[K     |██████████████▊                 | 665kB 8.4MB/s eta 0:00:01\r\u001b[K     |███████████████                 | 675kB 8.4MB/s eta 0:00:01\r\u001b[K     |███████████████▏                | 686kB 8.4MB/s eta 0:00:01\r\u001b[K     |███████████████▍                | 696kB 8.4MB/s eta 0:00:01\r\u001b[K     |███████████████▋                | 706kB 8.4MB/s eta 0:00:01\r\u001b[K     |███████████████▉                | 716kB 8.4MB/s eta 0:00:01\r\u001b[K     |████████████████▏               | 727kB 8.4MB/s eta 0:00:01\r\u001b[K     |████████████████▍               | 737kB 8.4MB/s eta 0:00:01\r\u001b[K     |████████████████▋               | 747kB 8.4MB/s eta 0:00:01\r\u001b[K     |████████████████▉               | 757kB 8.4MB/s eta 0:00:01\r\u001b[K     |█████████████████               | 768kB 8.4MB/s eta 0:00:01\r\u001b[K     |█████████████████▎              | 778kB 8.4MB/s eta 0:00:01\r\u001b[K     |█████████████████▌              | 788kB 8.4MB/s eta 0:00:01\r\u001b[K     |█████████████████▊              | 798kB 8.4MB/s eta 0:00:01\r\u001b[K     |██████████████████              | 808kB 8.4MB/s eta 0:00:01\r\u001b[K     |██████████████████▏             | 819kB 8.4MB/s eta 0:00:01\r\u001b[K     |██████████████████▍             | 829kB 8.4MB/s eta 0:00:01\r\u001b[K     |██████████████████▋             | 839kB 8.4MB/s eta 0:00:01\r\u001b[K     |██████████████████▉             | 849kB 8.4MB/s eta 0:00:01\r\u001b[K     |███████████████████             | 860kB 8.4MB/s eta 0:00:01\r\u001b[K     |███████████████████▎            | 870kB 8.4MB/s eta 0:00:01\r\u001b[K     |███████████████████▌            | 880kB 8.4MB/s eta 0:00:01\r\u001b[K     |███████████████████▊            | 890kB 8.4MB/s eta 0:00:01\r\u001b[K     |████████████████████            | 901kB 8.4MB/s eta 0:00:01\r\u001b[K     |████████████████████▏           | 911kB 8.4MB/s eta 0:00:01\r\u001b[K     |████████████████████▍           | 921kB 8.4MB/s eta 0:00:01\r\u001b[K     |████████████████████▋           | 931kB 8.4MB/s eta 0:00:01\r\u001b[K     |████████████████████▉           | 942kB 8.4MB/s eta 0:00:01\r\u001b[K     |█████████████████████           | 952kB 8.4MB/s eta 0:00:01\r\u001b[K     |█████████████████████▍          | 962kB 8.4MB/s eta 0:00:01\r\u001b[K     |█████████████████████▋          | 972kB 8.4MB/s eta 0:00:01\r\u001b[K     |█████████████████████▉          | 983kB 8.4MB/s eta 0:00:01\r\u001b[K     |██████████████████████          | 993kB 8.4MB/s eta 0:00:01\r\u001b[K     |██████████████████████▎         | 1.0MB 8.4MB/s eta 0:00:01\r\u001b[K     |██████████████████████▌         | 1.0MB 8.4MB/s eta 0:00:01\r\u001b[K     |██████████████████████▊         | 1.0MB 8.4MB/s eta 0:00:01\r\u001b[K     |███████████████████████         | 1.0MB 8.4MB/s eta 0:00:01\r\u001b[K     |███████████████████████▏        | 1.0MB 8.4MB/s eta 0:00:01\r\u001b[K     |███████████████████████▍        | 1.1MB 8.4MB/s eta 0:00:01\r\u001b[K     |███████████████████████▋        | 1.1MB 8.4MB/s eta 0:00:01\r\u001b[K     |███████████████████████▉        | 1.1MB 8.4MB/s eta 0:00:01\r\u001b[K     |████████████████████████        | 1.1MB 8.4MB/s eta 0:00:01\r\u001b[K     |████████████████████████▎       | 1.1MB 8.4MB/s eta 0:00:01\r\u001b[K     |████████████████████████▌       | 1.1MB 8.4MB/s eta 0:00:01\r\u001b[K     |████████████████████████▊       | 1.1MB 8.4MB/s eta 0:00:01\r\u001b[K     |█████████████████████████       | 1.1MB 8.4MB/s eta 0:00:01\r\u001b[K     |█████████████████████████▏      | 1.1MB 8.4MB/s eta 0:00:01\r\u001b[K     |█████████████████████████▍      | 1.1MB 8.4MB/s eta 0:00:01\r\u001b[K     |█████████████████████████▋      | 1.2MB 8.4MB/s eta 0:00:01\r\u001b[K     |█████████████████████████▉      | 1.2MB 8.4MB/s eta 0:00:01\r\u001b[K     |██████████████████████████      | 1.2MB 8.4MB/s eta 0:00:01\r\u001b[K     |██████████████████████████▎     | 1.2MB 8.4MB/s eta 0:00:01\r\u001b[K     |██████████████████████████▌     | 1.2MB 8.4MB/s eta 0:00:01\r\u001b[K     |██████████████████████████▉     | 1.2MB 8.4MB/s eta 0:00:01\r\u001b[K     |███████████████████████████     | 1.2MB 8.4MB/s eta 0:00:01\r\u001b[K     |███████████████████████████▎    | 1.2MB 8.4MB/s eta 0:00:01\r\u001b[K     |███████████████████████████▌    | 1.2MB 8.4MB/s eta 0:00:01\r\u001b[K     |███████████████████████████▊    | 1.2MB 8.4MB/s eta 0:00:01\r\u001b[K     |████████████████████████████    | 1.3MB 8.4MB/s eta 0:00:01\r\u001b[K     |████████████████████████████▏   | 1.3MB 8.4MB/s eta 0:00:01\r\u001b[K     |████████████████████████████▍   | 1.3MB 8.4MB/s eta 0:00:01\r\u001b[K     |████████████████████████████▋   | 1.3MB 8.4MB/s eta 0:00:01\r\u001b[K     |████████████████████████████▉   | 1.3MB 8.4MB/s eta 0:00:01\r\u001b[K     |█████████████████████████████   | 1.3MB 8.4MB/s eta 0:00:01\r\u001b[K     |█████████████████████████████▎  | 1.3MB 8.4MB/s eta 0:00:01\r\u001b[K     |█████████████████████████████▌  | 1.3MB 8.4MB/s eta 0:00:01\r\u001b[K     |█████████████████████████████▊  | 1.3MB 8.4MB/s eta 0:00:01\r\u001b[K     |██████████████████████████████  | 1.4MB 8.4MB/s eta 0:00:01\r\u001b[K     |██████████████████████████████▏ | 1.4MB 8.4MB/s eta 0:00:01\r\u001b[K     |██████████████████████████████▍ | 1.4MB 8.4MB/s eta 0:00:01\r\u001b[K     |██████████████████████████████▋ | 1.4MB 8.4MB/s eta 0:00:01\r\u001b[K     |██████████████████████████████▉ | 1.4MB 8.4MB/s eta 0:00:01\r\u001b[K     |███████████████████████████████ | 1.4MB 8.4MB/s eta 0:00:01\r\u001b[K     |███████████████████████████████▎| 1.4MB 8.4MB/s eta 0:00:01\r\u001b[K     |███████████████████████████████▌| 1.4MB 8.4MB/s eta 0:00:01\r\u001b[K     |███████████████████████████████▊| 1.4MB 8.4MB/s eta 0:00:01\r\u001b[K     |████████████████████████████████| 1.4MB 8.4MB/s \n",
            "\u001b[?25hInstalling collected packages: pymssql\n",
            "Successfully installed pymssql-2.1.4\n"
          ],
          "name": "stdout"
        }
      ]
    },
    {
      "cell_type": "code",
      "metadata": {
        "id": "ooCFS0YosYKU",
        "colab_type": "code",
        "outputId": "2957e699-20cf-492a-aa32-51b64a80d9e2",
        "colab": {
          "base_uri": "https://localhost:8080/",
          "height": 258
        }
      },
      "source": [
        "lld_d = pd.read_csv(\"lld.csv\")\n",
        "lld_d.head()"
      ],
      "execution_count": 0,
      "outputs": [
        {
          "output_type": "execute_result",
          "data": {
            "text/html": [
              "<div>\n",
              "<style scoped>\n",
              "    .dataframe tbody tr th:only-of-type {\n",
              "        vertical-align: middle;\n",
              "    }\n",
              "\n",
              "    .dataframe tbody tr th {\n",
              "        vertical-align: top;\n",
              "    }\n",
              "\n",
              "    .dataframe thead th {\n",
              "        text-align: right;\n",
              "    }\n",
              "</style>\n",
              "<table border=\"1\" class=\"dataframe\">\n",
              "  <thead>\n",
              "    <tr style=\"text-align: right;\">\n",
              "      <th></th>\n",
              "      <th>Unnamed: 0</th>\n",
              "      <th>Кол-во закладных</th>\n",
              "      <th>Суммарный ОД</th>\n",
              "      <th>Первоначальный ОД</th>\n",
              "      <th>Текущий ОД</th>\n",
              "      <th>Ставка по кредиту</th>\n",
              "      <th>Выдержка</th>\n",
              "      <th>Срок до погашения</th>\n",
              "      <th>Платеж</th>\n",
              "      <th>Кредит/Залог</th>\n",
              "      <th>Среднерыночная ставка при выдаче</th>\n",
              "      <th>Поправка дефолта</th>\n",
              "      <th>Поправка досрочки</th>\n",
              "      <th>Поправка частички 0</th>\n",
              "      <th>Поправка частички 1</th>\n",
              "      <th>Изменение стоимости залога</th>\n",
              "      <th>Продукт</th>\n",
              "    </tr>\n",
              "  </thead>\n",
              "  <tbody>\n",
              "    <tr>\n",
              "      <th>0</th>\n",
              "      <td>0</td>\n",
              "      <td>169</td>\n",
              "      <td>8.071962e+05</td>\n",
              "      <td>1.722503e+06</td>\n",
              "      <td>8.071962e+05</td>\n",
              "      <td>10.591861</td>\n",
              "      <td>61.475589</td>\n",
              "      <td>56.260188</td>\n",
              "      <td>20460.725026</td>\n",
              "      <td>51.557590</td>\n",
              "      <td>12.686301</td>\n",
              "      <td>0.420820</td>\n",
              "      <td>1.243603</td>\n",
              "      <td>1.376291</td>\n",
              "      <td>0.994696</td>\n",
              "      <td>0.912645</td>\n",
              "      <td>4</td>\n",
              "    </tr>\n",
              "    <tr>\n",
              "      <th>1</th>\n",
              "      <td>1</td>\n",
              "      <td>141</td>\n",
              "      <td>9.538143e+05</td>\n",
              "      <td>1.477888e+06</td>\n",
              "      <td>9.538143e+05</td>\n",
              "      <td>14.230518</td>\n",
              "      <td>69.058343</td>\n",
              "      <td>116.764973</td>\n",
              "      <td>15332.340603</td>\n",
              "      <td>56.160008</td>\n",
              "      <td>12.454338</td>\n",
              "      <td>1.242220</td>\n",
              "      <td>1.190745</td>\n",
              "      <td>1.286317</td>\n",
              "      <td>0.970541</td>\n",
              "      <td>0.953632</td>\n",
              "      <td>4</td>\n",
              "    </tr>\n",
              "    <tr>\n",
              "      <th>2</th>\n",
              "      <td>2</td>\n",
              "      <td>167</td>\n",
              "      <td>1.104837e+06</td>\n",
              "      <td>1.432819e+06</td>\n",
              "      <td>1.104837e+06</td>\n",
              "      <td>10.578382</td>\n",
              "      <td>34.807412</td>\n",
              "      <td>143.052107</td>\n",
              "      <td>13688.347792</td>\n",
              "      <td>58.144696</td>\n",
              "      <td>12.447371</td>\n",
              "      <td>0.534198</td>\n",
              "      <td>1.271225</td>\n",
              "      <td>1.130885</td>\n",
              "      <td>1.010540</td>\n",
              "      <td>0.976501</td>\n",
              "      <td>4</td>\n",
              "    </tr>\n",
              "    <tr>\n",
              "      <th>3</th>\n",
              "      <td>3</td>\n",
              "      <td>161</td>\n",
              "      <td>1.188801e+06</td>\n",
              "      <td>1.614943e+06</td>\n",
              "      <td>1.188801e+06</td>\n",
              "      <td>14.736762</td>\n",
              "      <td>44.163368</td>\n",
              "      <td>192.975824</td>\n",
              "      <td>16143.838950</td>\n",
              "      <td>56.080902</td>\n",
              "      <td>13.022544</td>\n",
              "      <td>1.180361</td>\n",
              "      <td>1.264420</td>\n",
              "      <td>1.333765</td>\n",
              "      <td>1.014849</td>\n",
              "      <td>0.936259</td>\n",
              "      <td>4</td>\n",
              "    </tr>\n",
              "    <tr>\n",
              "      <th>4</th>\n",
              "      <td>4</td>\n",
              "      <td>85</td>\n",
              "      <td>3.009323e+06</td>\n",
              "      <td>3.399544e+06</td>\n",
              "      <td>3.009323e+06</td>\n",
              "      <td>10.433306</td>\n",
              "      <td>23.912431</td>\n",
              "      <td>215.627010</td>\n",
              "      <td>30975.545984</td>\n",
              "      <td>57.810672</td>\n",
              "      <td>11.005933</td>\n",
              "      <td>0.542988</td>\n",
              "      <td>1.196449</td>\n",
              "      <td>1.382037</td>\n",
              "      <td>0.971142</td>\n",
              "      <td>0.998581</td>\n",
              "      <td>4</td>\n",
              "    </tr>\n",
              "  </tbody>\n",
              "</table>\n",
              "</div>"
            ],
            "text/plain": [
              "   Unnamed: 0  Кол-во закладных  ...  Изменение стоимости залога  Продукт\n",
              "0           0               169  ...                    0.912645        4\n",
              "1           1               141  ...                    0.953632        4\n",
              "2           2               167  ...                    0.976501        4\n",
              "3           3               161  ...                    0.936259        4\n",
              "4           4                85  ...                    0.998581        4\n",
              "\n",
              "[5 rows x 17 columns]"
            ]
          },
          "metadata": {
            "tags": []
          },
          "execution_count": 87
        }
      ]
    },
    {
      "cell_type": "code",
      "metadata": {
        "id": "yiLgLWYktSEH",
        "colab_type": "code",
        "outputId": "a7745ef1-52da-470c-cccc-e8b65bab6e3f",
        "colab": {
          "base_uri": "https://localhost:8080/",
          "height": 357
        }
      },
      "source": [
        "scr_d = pd.read_csv(\"scr.csv\")\n",
        "scr_d[scr_d.columns[1]] = pd.to_datetime(scr_d[scr_d.columns[1]])\n",
        "scr_d.head()"
      ],
      "execution_count": 0,
      "outputs": [
        {
          "output_type": "execute_result",
          "data": {
            "text/html": [
              "<div>\n",
              "<style scoped>\n",
              "    .dataframe tbody tr th:only-of-type {\n",
              "        vertical-align: middle;\n",
              "    }\n",
              "\n",
              "    .dataframe tbody tr th {\n",
              "        vertical-align: top;\n",
              "    }\n",
              "\n",
              "    .dataframe thead th {\n",
              "        text-align: right;\n",
              "    }\n",
              "</style>\n",
              "<table border=\"1\" class=\"dataframe\">\n",
              "  <thead>\n",
              "    <tr style=\"text-align: right;\">\n",
              "      <th></th>\n",
              "      <th>Сценарий</th>\n",
              "      <th>Отчетная дата</th>\n",
              "      <th>Кривая бескупонной доходности (zcyc, годовое начисление)</th>\n",
              "      <th>Сценарная доходность (yield curve, годовое начисление)</th>\n",
              "      <th>Сценарная короткая ставка (shortrate, годовое начисление)</th>\n",
              "      <th>Сценарная ставка по ипотеке</th>\n",
              "      <th>Сценарная ставка Моспрайм6m</th>\n",
              "      <th>Сценарный рост цен на недвижимость</th>\n",
              "      <th>Сценарный индекс цен на недвижимость</th>\n",
              "      <th>Сценарная ставка с лагом 6 мес.</th>\n",
              "      <th>Сезонный фактор</th>\n",
              "      <th>Сценарное дисконтирование</th>\n",
              "      <th>Рыночное дисконтирование</th>\n",
              "    </tr>\n",
              "  </thead>\n",
              "  <tbody>\n",
              "    <tr>\n",
              "      <th>0</th>\n",
              "      <td>0</td>\n",
              "      <td>2019-10-01</td>\n",
              "      <td>0.782854</td>\n",
              "      <td>0.782854</td>\n",
              "      <td>0.782854</td>\n",
              "      <td>9.680000</td>\n",
              "      <td>7.153043</td>\n",
              "      <td>1.001531</td>\n",
              "      <td>1.001531</td>\n",
              "      <td>7.123266</td>\n",
              "      <td>10.0</td>\n",
              "      <td>1.000000</td>\n",
              "      <td>1.000000</td>\n",
              "    </tr>\n",
              "    <tr>\n",
              "      <th>1</th>\n",
              "      <td>0</td>\n",
              "      <td>2019-11-01</td>\n",
              "      <td>0.786975</td>\n",
              "      <td>0.942682</td>\n",
              "      <td>0.942682</td>\n",
              "      <td>9.166125</td>\n",
              "      <td>3.973045</td>\n",
              "      <td>1.004490</td>\n",
              "      <td>1.006028</td>\n",
              "      <td>7.142933</td>\n",
              "      <td>11.0</td>\n",
              "      <td>0.999218</td>\n",
              "      <td>0.999347</td>\n",
              "    </tr>\n",
              "    <tr>\n",
              "      <th>2</th>\n",
              "      <td>0</td>\n",
              "      <td>2019-12-01</td>\n",
              "      <td>0.790613</td>\n",
              "      <td>0.932785</td>\n",
              "      <td>0.922889</td>\n",
              "      <td>8.702453</td>\n",
              "      <td>2.409778</td>\n",
              "      <td>1.008736</td>\n",
              "      <td>1.014816</td>\n",
              "      <td>6.881182</td>\n",
              "      <td>12.0</td>\n",
              "      <td>0.998454</td>\n",
              "      <td>0.998688</td>\n",
              "    </tr>\n",
              "    <tr>\n",
              "      <th>3</th>\n",
              "      <td>0</td>\n",
              "      <td>2020-01-01</td>\n",
              "      <td>0.793785</td>\n",
              "      <td>0.884934</td>\n",
              "      <td>0.789299</td>\n",
              "      <td>8.284394</td>\n",
              "      <td>1.549598</td>\n",
              "      <td>1.009936</td>\n",
              "      <td>1.024899</td>\n",
              "      <td>6.737166</td>\n",
              "      <td>1.0</td>\n",
              "      <td>0.997800</td>\n",
              "      <td>0.998025</td>\n",
              "    </tr>\n",
              "    <tr>\n",
              "      <th>4</th>\n",
              "      <td>0</td>\n",
              "      <td>2020-02-01</td>\n",
              "      <td>0.796541</td>\n",
              "      <td>0.915444</td>\n",
              "      <td>1.007032</td>\n",
              "      <td>7.907554</td>\n",
              "      <td>1.657770</td>\n",
              "      <td>1.006927</td>\n",
              "      <td>1.031999</td>\n",
              "      <td>6.658528</td>\n",
              "      <td>2.0</td>\n",
              "      <td>0.996967</td>\n",
              "      <td>0.997359</td>\n",
              "    </tr>\n",
              "  </tbody>\n",
              "</table>\n",
              "</div>"
            ],
            "text/plain": [
              "   Сценарий Отчетная дата  ...  Сценарное дисконтирование  Рыночное дисконтирование\n",
              "0         0    2019-10-01  ...                   1.000000                  1.000000\n",
              "1         0    2019-11-01  ...                   0.999218                  0.999347\n",
              "2         0    2019-12-01  ...                   0.998454                  0.998688\n",
              "3         0    2020-01-01  ...                   0.997800                  0.998025\n",
              "4         0    2020-02-01  ...                   0.996967                  0.997359\n",
              "\n",
              "[5 rows x 13 columns]"
            ]
          },
          "metadata": {
            "tags": []
          },
          "execution_count": 88
        }
      ]
    },
    {
      "cell_type": "code",
      "metadata": {
        "id": "u91yNOFpy4zw",
        "colab_type": "code",
        "colab": {}
      },
      "source": [
        "lld_df = lld_d.set_index(lld_d.columns[0])\n",
        "scr_df = scr_d.set_index([scr_d.columns[0], scr_d.columns[1]])"
      ],
      "execution_count": 0,
      "outputs": []
    },
    {
      "cell_type": "code",
      "metadata": {
        "id": "W7pvnF1wtTTX",
        "colab_type": "code",
        "colab": {}
      },
      "source": [
        "with open(\"super.pickle\", \"rb\") as f:\n",
        "  pick_module = pickle.load(f)\n",
        "  "
      ],
      "execution_count": 0,
      "outputs": []
    },
    {
      "cell_type": "code",
      "metadata": {
        "id": "5w93jHONtV-X",
        "colab_type": "code",
        "colab": {}
      },
      "source": [
        "!unzip concept3.zip;\n",
        "print( \"end\")"
      ],
      "execution_count": 0,
      "outputs": []
    },
    {
      "cell_type": "code",
      "metadata": {
        "id": "c9ghiJQOtr0z",
        "colab_type": "code",
        "colab": {}
      },
      "source": [
        "import specs\n",
        "from importlib import reload\n",
        "pick_module.Adjusts = specs.prime_m1\n",
        "pick_module.Parameters.NumberOfMonteCarloScenarios = 15000\n",
        "pick_module.Parameters.NumberOfSyntheticLoans = 60\n",
        "pick_module.Parameters.NumberOfEventSimulations = 1000\n"
      ],
      "execution_count": 0,
      "outputs": []
    },
    {
      "cell_type": "code",
      "metadata": {
        "id": "CU48K4tXys_R",
        "colab_type": "code",
        "outputId": "d364050f-9fcf-4f9c-ea57-568c24b5d414",
        "colab": {
          "base_uri": "https://localhost:8080/",
          "height": 34
        }
      },
      "source": [
        "reload(model.cfm)\n",
        "import model\n",
        "def do():\n",
        "  # df = None\n",
        "  df = []\n",
        "  for i in range(10000):#(pick_module.Parameters.NumberOfMonteCarloScenarios):\n",
        "    res = model.cfm.run(pick_module, lld_df, scr_df)\n",
        "    #df.append(res)\n",
        "  print(1)\n",
        "  return df\n",
        "    # df = pd.concat((res, df))\n",
        "%timeit do()"
      ],
      "execution_count": 0,
      "outputs": [
        {
          "output_type": "stream",
          "text": [
            "1\n"
          ],
          "name": "stdout"
        }
      ]
    },
    {
      "cell_type": "code",
      "metadata": {
        "id": "vWl2w8tABBcd",
        "colab_type": "code",
        "colab": {}
      },
      "source": [
        "#A - 2d, B - 1d\n",
        "@cuda.jit(device=True)\n",
        "def set_1d_to_2d(A_2d, B_1d, index):\n",
        "  if(index < 0):\n",
        "    for i in range(A_2d.shape[0]):\n",
        "      for j in range(A_2d.shape[1]):\n",
        "        A_2d[i, j] = B_1d[j]  \n",
        "  else:\n",
        "    for i in range(B_1d.shape[0]):\n",
        "      A_2d[index, i] = B_1d[i]\n",
        "\n",
        "@cuda.jit(device=True)\n",
        "def set_2d_to_2d(A_2d, B_2d):\n",
        "  for i in range(A_2d.shape[0]):\n",
        "    for j in range(A_2d.shape[1]):\n",
        "      A_2d[i, j] = B_2d[i,j]  \n",
        "\n",
        "@cuda.jit(device=True)\n",
        "def set_1d_to_3d(A_3d, B_1d, index):\n",
        "  for i in range(A_3d.shape[1]):\n",
        "    for j in range(A_3d.shape[2]):\n",
        "      A_3d[index, i, j] = B_1d[j]  \n",
        "\n",
        "@cuda.jit(device=True)\n",
        "def set_2d_to_3d(A_3d, B_2d, index):\n",
        "  for i in range(A_3d.shape[1]):\n",
        "    for j in range(A_3d.shape[2]):\n",
        "      A_3d[index, i, j] = B_2d[i,j] \n",
        "\n",
        "@cuda.jit(device=True)\n",
        "def log_and_2d(A_2d, B_2d, result):\n",
        "  for i in range(A_2d.shape[0]):\n",
        "    for j in range(A_2d.shape[1]):\n",
        "      result[i,j] = operator.gt(A_2d[i,j], B_2d[i,j])\n",
        "\n",
        "@cuda.jit(device=True)\n",
        "def gt_0(A_2d, result):\n",
        "  for i in range(A_2d.shape[0]):\n",
        "    for j in range(A_2d.shape[1]):\n",
        "      result[i,j] = operator.gt(A_2d[i,j], 0)\n",
        "\n",
        "@cuda.jit(device=True)\n",
        "def gt_0_3d(A_3d):\n",
        "  for i in range(A_3d.shape[0]):\n",
        "    for j in range(A_3d.shape[1]):\n",
        "      for k in range(A_3d.shape[1]):\n",
        "        A_3d[i,j,k] = operator.gt(A_3d[i,j,k], 0)\n",
        "\n",
        "@cuda.jit(device=True)\n",
        "def get_2d_from_3d(A, ind, res):\n",
        "  for i in range(A.shape[1]):\n",
        "    for j in range(A.shape[2]):\n",
        "      res[i,j] = A[ind, i, j]        \n",
        "\n",
        "\n",
        "@cuda.jit(device=True)\n",
        "def mul_1d_to_2d(A_2d, B_1d, res):\n",
        "  for i in range(A_2d.shape[0]):\n",
        "    for j in range(A_2d.shape[1]):\n",
        "      res[i,j] = A_2d * B_1d[j]\n",
        "\n",
        "@cuda.jit(device=True)\n",
        "def multValue(A, v, result):\n",
        "  for i in range(len(A)):\n",
        "    result[i] = A[i] * v\n",
        "\n",
        "\n",
        "@cuda.jit(device=True)\n",
        "def mult_1d_1d(A_1d, B_1d, result):\n",
        "  for i in range(A_1d.shape[0]):\n",
        "    result[i] = A_1d[i] * B_1d[i]\n",
        "\n",
        "@cuda.jit(device=True)\n",
        "def mult_2d_1d(A_2d, B_1d, result):\n",
        "  for i in range(A_2d.shape[0]):\n",
        "    for j in range(A_2d.shape[1]):\n",
        "      result[i,j] = A_2d[i, j] * B_1d[j]\n",
        "\n",
        "@cuda.jit(device=True)\n",
        "def sub_2d_2d(A_2d, B_2d, result):\n",
        "  for i in range(A_2d.shape[0]):\n",
        "    for j in range(A_2d.shape[1]):\n",
        "      result[i,j] = A_2d[i, j] - B_2d[i,j]\n",
        "\n",
        "@cuda.jit(device=True)\n",
        "def div_2d_2d(A_2d, B_2d):\n",
        "  for i in range(A_2d.shape[0]):\n",
        "    for j in range(A_2d.shape[1]):\n",
        "      if(B_2d[i,j] != 0):\n",
        "        A_2d[i,j] = A_2d[i, j]/B_2d[i,j]\n",
        "\n",
        "@cuda.jit(device=True)\n",
        "def iand_2d_2d(A_2d, B_2d):\n",
        "  for i in range(A_2d.shape[0]):\n",
        "    for j in range(A_2d.shape[1]):\n",
        "      A_2d[i,j] = operator.and_(A_2d[i,j], B_2d[i,j])\n",
        "\n",
        "@cuda.jit(device=True)\n",
        "def masked_2d_2d(A_2d, B_2d, result):\n",
        "  for i in range(A_2d.shape[0]):\n",
        "    for j in range(A_2d.shape[1]):\n",
        "      if(B_2d[i,j]==1):\n",
        "        result[i,j] = A_2d[i,j]\n",
        "      else:\n",
        "        result[i,j] = 0\n",
        "\n",
        "@cuda.jit(device=True)\n",
        "def any_2d(A_2d, result):\n",
        "  result = True\n",
        "  for i in range(A_2d.shape[0]):\n",
        "    for j in range(A_2d.shape[1]):\n",
        "      if(A_2d[i,j] != 0):\n",
        "        break\n",
        "    if(A_2d[i,j] != 0):\n",
        "      break\n",
        "    result = False\n",
        "\n",
        "@cuda.jit(device=True)\n",
        "def mask_len(A_2d):\n",
        "  res = 0\n",
        "  for i in range(A_2d.shape[0]):\n",
        "    for j in range(A_2d.shape[1]):\n",
        "      if (A_2d[i,j] == 1):\n",
        "        res += 1\n",
        "  return res\n",
        "\n",
        "@cuda.jit(device=True)\n",
        "def apply_mask(A_2d, mask_2d, result):\n",
        "  # res = cuda.local.array(mask_len(mask_2d), dtype=numba.float64)\n",
        "  for i in range(A_2d.shape[0]):\n",
        "    for j in range(A_2d.shape[1]):\n",
        "      if(mask_2d[i,j] == 1):\n",
        "        result[i,j] = A_2d[i,j]\n",
        "      else:\n",
        "        result[i,j] = 0\n",
        "\n",
        "@cuda.jit(device=True)\n",
        "def imul_masked(A_2d, mask_2d, B_2d):\n",
        "  for i in range(A_2d.shape[0]):\n",
        "    for j in range(A_2d.shape[1]):\n",
        "      if(mask_2d[i,j] == 1):\n",
        "        A_2d[i,j] *= B_2d[i,j]\n",
        "\n",
        "@cuda.jit(device=True)\n",
        "def mean_3d_t(A_3d, result):\n",
        "  # res = cuda.local.array((A_3d.shape[0], A_3d.shape[2]), dtype=numba.float64)\n",
        "  for i in range(A_3d.shape[0]):\n",
        "    for k in range(A_3d.shape[2]):\n",
        "      sum = 0\n",
        "      for j in range(A_3d.shape[1]):\n",
        "        sum += A_3d[i,j,k]\n",
        "      result[k,i] = sum / A_3d.shape[1]\n",
        "\n",
        "@cuda.jit(device=True)\n",
        "def min_2d_2d(A_2d, B_2d, result):\n",
        "  for i in range(A_2d.shape[0]):\n",
        "    for j in range(A_2d.shape[1]):\n",
        "      result[i,j] = min(A_2d[i,j], B_2d[i,j])\n",
        "\n",
        "@cuda.jit(device=True)\n",
        "def merge(A_1, A_2, A_3, A_4, A_5, result):\n",
        "  for i in range(A_2d.shape[0]):\n",
        "    for j in range(A_2d.shape[1]):\n",
        "      result[i,j] = min(A_2d[i,j], B_2d[i,j])"
      ],
      "execution_count": 0,
      "outputs": []
    },
    {
      "cell_type": "code",
      "metadata": {
        "id": "-kmvOZ21mMkj",
        "colab_type": "code",
        "colab": {}
      },
      "source": [
        "import operator\n",
        "@cuda.jit\n",
        "def dd2(debt, irate, payment, dt, r2, T, Debt_BoP,Debt_Int,Debt_Amt,Debt_Pmt,Plan_EoP, L0,AP, IRP, PR, result, res, ij):\n",
        "  start = cuda.grid(1)\n",
        "  stride = cuda.gridsize(1)\n",
        "\n",
        "  # size_T1_S_N = (size_3[0], size_3[1], size_3[2],)\n",
        "  # size_S_N = size_2[0], size_2[1]\n",
        "  # size_1_N = (size_1[0], size_1[1],)\n",
        "  # result = cuda.local.array(size_S_N, dtype=numba.float64)\n",
        "\n",
        "  # Debt_BoP = cuda.local.array(size_T1_S_N, dtype=numba.float64)\n",
        "  # Debt_Int = cuda.local.array(size_T1_S_N, dtype=numba.float64)\n",
        "  # Debt_Amt = cuda.local.array((1000,100), dtype=numba.float64)\n",
        "  # Debt_Pmt = cuda.local.array(size_T1_S_N, dtype=numba.float64)\n",
        "  # Plan_EoP = cuda.local.array(size_S_N, dtype=numba.float64)\n",
        "  # L0 = cuda.local.array(size_S_N, dtype=numba.float64)\n",
        "  # AP = cuda.local.array(size_S_N, dtype=numba.float64)  # installment\n",
        "  # IRP = cuda.local.array(size_1_N, dtype=numba.float64)  # interest rate\n",
        "\n",
        "  set_1d_to_3d(Debt_BoP, debt, 0)\n",
        "\n",
        "  multValue(payment, dt * 12 , result[0])\n",
        "  set_1d_to_2d(AP, result[0], -1)\n",
        "\n",
        "  multValue(irate, dt/100 , result[0])\n",
        "  set_1d_to_2d(IRP, result[0], -1)\n",
        "\n",
        "\n",
        "  for t in range(T):\n",
        "    mult_2d_1d(Debt_BoP[t], IRP[0], Debt_Int[t])\n",
        "    # set_2d_to_3d(Debt_Int, result, t)\n",
        "\n",
        "    sub_2d_2d(AP, Debt_Int[t], result)\n",
        "    min_2d_2d(result, Debt_BoP[t], Debt_Amt[t])\n",
        "    # set_1d_to_3d(Debt_Amt, result, t)\n",
        "\n",
        "    sub_2d_2d(Debt_BoP[t], Debt_Amt[t], Plan_EoP)\n",
        "    # set_2d_to_2d(Plan_EoP, result)\n",
        "\n",
        "    min_2d_2d(PR[t], Plan_EoP, Debt_Amt[t])\n",
        "    # set_1d_to_3d(Debt_Amt, result, result)\n",
        "\n",
        "    sub_2d_2d(Plan_EoP, Debt_Pmt[t], Debt_BoP[t + 1])\n",
        "  #   set_2d_to_2d(Debt_BoP[t + 1], result)\n",
        "\n",
        "    flag= True\n",
        "    any_2d(Debt_BoP[t + 1], flag)\n",
        "\n",
        "    if(flag):\n",
        "      gt_0(Debt_BoP[t + 1], L0)\n",
        "      # set_2d_to_2d(L0, result)\n",
        "      gt_0(Debt_Pmt[t], result)\n",
        "      # r2[t, 0,0] = True\n",
        "      log_and_2d(r2[t], result, result)\n",
        "      log_and_2d(L0, result, L0)\n",
        "      ln = mask_len(result)\n",
        "      apply_mask(Debt_BoP[t + 1], L0, result)\n",
        "      result2 = result\n",
        "      apply_mask(Plan_EoP, L0, result2)\n",
        "\n",
        "      div_2d_2d(result, result2)\n",
        "\n",
        "      imul_masked(AP, L0, result)\n",
        "  \n",
        "  mean_3d_t(Debt_BoP, res)\n",
        "  gt_0_3d(Debt_BoP)\n",
        "  mean_3d_t(Debt_BoP, res)\n",
        "  mean_3d_t(Debt_Int, res)\n",
        "  mean_3d_t(Debt_Amt, res)\n",
        "  mean_3d_t(Debt_Pmt, res)\n",
        "  ij[start]=1\n",
        "\n",
        "  # NUM = mean_and_transpose(Debt_BoP)\n",
        "  # YLD = mean_and_transpose(Debt_Int)\n",
        "  # AMT = mean_and_transpose(Debt_Amt)\n",
        "  # PMT = mean_and_transpose(Debt_Pmt)\n"
      ],
      "execution_count": 0,
      "outputs": []
    },
    {
      "cell_type": "code",
      "metadata": {
        "id": "Sy05JkgB1Ku_",
        "colab_type": "code",
        "outputId": "2a3794ea-75f5-46c8-d0ca-b03f9fd6074e",
        "colab": {
          "base_uri": "https://localhost:8080/",
          "height": 34
        }
      },
      "source": [
        "import operator\n",
        "size_3 = np.array((242,2000,90))\n",
        "size_2 = np.array((2000,90), dtype = np.int64)\n",
        "size_4 = (242,90)\n",
        "size1 = np.array((1,90))\n",
        "\n",
        "debt = np.array([i for i in range(90)]) # 2,3 debt\n",
        "\n",
        "irate = np.array([i/10 for i in range(90)]) #3, 1 \n",
        "# b = np.array([2,2,2]) #3, 1 irate\n",
        "\n",
        "payment = np.array([i*100 for i in range(90)])\n",
        "\n",
        "dt = 1\n",
        "# r2 = cuda.to_device(np.array([[[True,False,True], [True,False,True], [True,False,True]],\n",
        "#                               [[True,False,True], [True,False,True], [True,False,True]],\n",
        "#                               [[True,False,True], [True,False,True], [True,False,True]]], dtype=bool))\n",
        "r2 = cuda.to_device(np.random.random(size_3) < 2)\n",
        "size_T1_S_N = size_3\n",
        "size_S_N = size_2\n",
        "\n",
        "Debt_BoP = cuda.to_device(np.zeros(size_T1_S_N, dtype=np.float64) ) # debt at the beginning of a period\n",
        "Debt_Int = cuda.to_device(np.zeros(size_T1_S_N, dtype=np.float64) ) # payed interest\n",
        "Debt_Amt = cuda.to_device(np.zeros(size_T1_S_N, dtype=np.float64) ) # debt amortization by plan\n",
        "Debt_Pmt = cuda.to_device(np.zeros(size_T1_S_N, dtype=np.float64) ) # debt amortization by part prepayment        \n",
        "Plan_EoP = cuda.to_device(np.zeros(size_S_N, dtype=np.float64))\n",
        "\n",
        "L0 = cuda.to_device(np.zeros(size_S_N, dtype=np.bool) )\n",
        "\n",
        "AP = cuda.to_device(np.zeros(size_S_N, dtype=np.float64) )\n",
        "IRP = cuda.to_device(np.zeros(size1, dtype=np.float64) )\n",
        "\n",
        "result = cuda.to_device(np.zeros(size_S_N, dtype=np.float64) )\n",
        "result_bool = cuda.to_device(np.zeros(size_4, dtype=np.float64) )\n",
        "\n",
        "PR = cuda.to_device(np.random.random(size_T1_S_N))\n",
        "T = 12\n",
        "\n",
        "threadsperblock = 32\n",
        "blockspergrid = (256 + (threadsperblock - 1)) // threadsperblock\n",
        "print(blockspergrid)\n",
        "# increment_by_one[blockspergrid, threadsperblock](an_array)\n",
        "\n",
        "# print(Debt_Int.copy_to_host())\n",
        "\n",
        "# print(result.copy_to_host())  \n",
        "\n",
        "# AP, Debt_Int[t]\n",
        "# print(r2[0].copy_to_host())\n",
        "# print(result_bool.copy_to_host())\n"
      ],
      "execution_count": 0,
      "outputs": [
        {
          "output_type": "stream",
          "text": [
            "8\n"
          ],
          "name": "stdout"
        }
      ]
    },
    {
      "cell_type": "code",
      "metadata": {
        "id": "J1MrfCxktORk",
        "colab_type": "code",
        "colab": {}
      },
      "source": [
        "threads = 128\n",
        "# blocks = int(2496/128)#128\n",
        "blocks = int(2496/128)#128\n"
      ],
      "execution_count": 0,
      "outputs": []
    },
    {
      "cell_type": "code",
      "metadata": {
        "id": "-Fqm9QblvA1H",
        "colab_type": "code",
        "outputId": "3379b36e-8386-4f19-d0fc-0e7f0dca4b3e",
        "colab": {
          "base_uri": "https://localhost:8080/",
          "height": 68
        }
      },
      "source": [
        "ij = cuda.to_device(np.zeros(threads * blocks))\n",
        "\n",
        "#threads = 128\n",
        "#blocks = 256#int(30000/threads)+1\n",
        "\n",
        "%time dd2[blocks, threads](debt, irate, payment, dt, r2, T, Debt_BoP,Debt_Int,Debt_Amt,Debt_Pmt,Plan_EoP, L0, AP, IRP, PR, result, result_bool, ij)\n",
        "# print(AP.copy_to_host())\n",
        "aasd = ij.copy_to_host()\n",
        "aasd1 = aasd[aasd == 1]\n",
        "print(len(aasd1))"
      ],
      "execution_count": 0,
      "outputs": [
        {
          "output_type": "stream",
          "text": [
            "CPU times: user 1min 30s, sys: 1min 22s, total: 2min 52s\n",
            "Wall time: 2min 53s\n",
            "2432\n"
          ],
          "name": "stdout"
        }
      ]
    },
    {
      "cell_type": "code",
      "metadata": {
        "id": "iI_h1h6YxMDY",
        "colab_type": "code",
        "outputId": "c2d8664f-d335-4871-981f-9fd99bced229",
        "colab": {
          "base_uri": "https://localhost:8080/",
          "height": 68
        }
      },
      "source": [
        "def do_it(num):    \n",
        "  for i in range(num):\n",
        "    Run(debt, irate,  payment, size_T1_S_N, size_S_N, r2, IRP,AP, dt,T,PR)\n",
        "%time do_it(threads * blocks)\n",
        "print (threads * blocks)"
      ],
      "execution_count": 0,
      "outputs": [
        {
          "output_type": "stream",
          "text": [
            "CPU times: user 24min 43s, sys: 30.8 s, total: 25min 14s\n",
            "Wall time: 25min 15s\n",
            "2560\n"
          ],
          "name": "stdout"
        }
      ]
    },
    {
      "cell_type": "code",
      "metadata": {
        "id": "Jb1dXeZMxpRp",
        "colab_type": "code",
        "colab": {}
      },
      "source": [
        "def Run(debt, irate, payment, size_T1_S_N, size_S_N, r2, IRP,AP, dt,T,PR):\n",
        "  Debt_BoP = np.zeros(size_T1_S_N, dtype=np.float64)  # debt at the beginning of a period\n",
        "  Debt_Int = np.zeros(size_T1_S_N, dtype=np.float64)  # payed interest\n",
        "  Debt_Amt = np.zeros(size_T1_S_N, dtype=np.float64)  # debt amortization by plan\n",
        "  Debt_Pmt = np.zeros(size_T1_S_N, dtype=np.float64)  # debt amortization by part prepayment        \n",
        "  Plan_EoP = np.zeros(size_S_N, dtype=np.float64)\n",
        "\n",
        "  # t0 = time.clock()\n",
        "\n",
        "  # average debt size in bucket\n",
        "  Debt_BoP[0] = debt.reshape((1, -1))\n",
        "  # weighted average interest percent in bucket\n",
        "  IRP[:, :] = irate.reshape((1, -1)) / 100.0 * dt\n",
        "  # average payment amount in bucket\n",
        "  AP[:, :] = payment.reshape((1, -1)) * 12.0 * dt\n",
        "\n",
        "  # print('SR init: {0:.3f} sec'.format(time.clock() - t0)); t0 = time.clock()\n",
        "\n",
        "\n",
        "  for t in range(T):\n",
        "\n",
        "      # partial prepayment rate\n",
        "      # self.PrepaymentFunction(t, self.pp_value)\n",
        "      # self.DynamicPrepaymentRate(t)\n",
        "\n",
        "      # payed interests\n",
        "      Debt_Int[t] = Debt_BoP[t] * IRP\n",
        "\n",
        "      # amortization by plan\n",
        "      Debt_Amt[t] = np.minimum(AP - Debt_Int[t], Debt_BoP[t])\n",
        "\n",
        "      # was:\n",
        "      # self.L0[:, :] = Debt_BoP[t] <= Debt_Amt[t]\n",
        "      # Debt_Amt[t][self.L0] = Debt_BoP[t][self.L0]\n",
        "\n",
        "      # general debt at the end of the period planned, i.e. before unscheduled partial prepayment\n",
        "      Plan_EoP[:, :] = Debt_BoP[t] - Debt_Amt[t]\n",
        "\n",
        "      # partial prepayment - only for normal amortization\n",
        "      Debt_Pmt[t] = np.minimum(PR[t], Plan_EoP)\n",
        "      # # for z-spread\n",
        "      # Debt_Pmt[t] = 0.017344417 * Debt_BoP[t]\n",
        "\n",
        "      # was:\n",
        "      # self.L0[:, :] = Plan_EoP <= Debt_Pmt[t]\n",
        "      # Debt_Pmt[t][self.L0] = Plan_EoP[self.L0]\n",
        "\n",
        "      # general debt at the end of period t, which is start of period t + 1\n",
        "      Debt_BoP[t + 1] = Plan_EoP - Debt_Pmt[t]\n",
        "      if not np.any(Debt_BoP[t + 1]):\n",
        "          break\n",
        "\n",
        "      # dynamic payment amount\n",
        "      # self.AP[Debt_BoP[t] == 0] = 0.0            \n",
        "      L0[:, :] = Debt_BoP[t + 1] > 0\n",
        "      L0[:, :] &= r2[t] & (Debt_Pmt[t] > 0)\n",
        "      AP[L0] *= (Debt_BoP[t + 1][L0] / Plan_EoP[L0])  # (Debt_BoP[t][self.L0] + Debt_Pmt[t - 1][self.L0]))\n",
        "\n",
        "  # print('SR cycle: {0:.3f} sec'.format(time.clock() - t0))\n",
        "\n",
        "  # # save i-th bucket history\n",
        "  # self.NUM[:, :] = (Debt_BoP > 0.0).mean(axis=1).T\n",
        "  # self.DBT[:, :] = (Debt_BoP).mean(axis=1).T\n",
        "  # self.YLD[:, :] = (Debt_Int).mean(axis=1).T\n",
        "  # self.AMT[:, :] = (Debt_Amt).mean(axis=1).T\n",
        "  # self.PMT[:, :] = (Debt_Pmt).mean(axis=1).T\n",
        "\n",
        "  # save i-th bucket history\n",
        "  NUM = (Debt_BoP > 0.0).mean(axis=1).T\n",
        "  DBT = (Debt_BoP).mean(axis=1).T\n",
        "  YLD = (Debt_Int).mean(axis=1).T\n",
        "  AMT = (Debt_Amt).mean(axis=1).T\n",
        "  PMT = (Debt_Pmt).mean(axis=1).T"
      ],
      "execution_count": 0,
      "outputs": []
    },
    {
      "cell_type": "code",
      "metadata": {
        "id": "rolvtBI9gcTR",
        "colab_type": "code",
        "colab": {}
      },
      "source": [
        ""
      ],
      "execution_count": 0,
      "outputs": []
    }
  ]
}